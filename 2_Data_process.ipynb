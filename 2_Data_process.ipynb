{
 "cells": [
  {
   "cell_type": "code",
   "execution_count": null,
   "metadata": {},
   "outputs": [],
   "source": [
    "from pathlib import Path\n",
    "\n",
    "from DataProcess.preprocess_run import corr\n",
    "from DataProcess.xds_write_inp import write_xds_inp_serial3DED\n",
    "from DataProcess.xds_run import index_cinchonine\n",
    "from DataProcess.shelxl_run import run_shelxl_cinchonine\n"
   ]
  },
  {
   "cell_type": "code",
   "execution_count": 2,
   "metadata": {},
   "outputs": [],
   "source": [
    "crystal_path = r'DemoData\\Cinchonine'\n",
    "crystal_path = Path(crystal_path)\n",
    "XDS_INP = crystal_path / 'xds/XDS.INP'"
   ]
  },
  {
   "cell_type": "code",
   "execution_count": 3,
   "metadata": {},
   "outputs": [
    {
     "name": "stdout",
     "output_type": "stream",
     "text": [
      "Folder: Cinchonine\n",
      ">>> Correcting ....\n",
      "Read 405 imgs\n",
      "    DONE\n",
      "\n"
     ]
    }
   ],
   "source": [
    "corr(crystal_path, sigma=10)"
   ]
  },
  {
   "cell_type": "code",
   "execution_count": 4,
   "metadata": {},
   "outputs": [
    {
     "name": "stdout",
     "output_type": "stream",
     "text": [
      "\n"
     ]
    }
   ],
   "source": [
    "write_xds_inp_serial3DED(crystal_path)"
   ]
  },
  {
   "cell_type": "code",
   "execution_count": 5,
   "metadata": {},
   "outputs": [
    {
     "name": "stdout",
     "output_type": "stream",
     "text": [
      "\n",
      "Folder: DemoData\\Cinchonine\\xds\n",
      "ISa: 7.86\n",
      "Cell: 10.732, 7.283, 11.107, 90.0, 108.06, 90.0\n",
      "Spgr: 4\n",
      "Completeness: 70.7\n",
      "I/Sigma: 4.12\n",
      "CC12: 97.8\n"
     ]
    }
   ],
   "source": [
    "index_cinchonine(crystal_path)"
   ]
  },
  {
   "cell_type": "code",
   "execution_count": 6,
   "metadata": {},
   "outputs": [
    {
     "name": "stdout",
     "output_type": "stream",
     "text": [
      "Folder: Cinchonine\n",
      "R_1:     0.1765\n",
      "R_all:   0.2113\n",
      "gt/unique/all: 868/1285/1946\n",
      "\n"
     ]
    }
   ],
   "source": [
    "run_shelxl_cinchonine(crystal_path)"
   ]
  }
 ],
 "metadata": {
  "kernelspec": {
   "display_name": "base",
   "language": "python",
   "name": "python3"
  },
  "language_info": {
   "codemirror_mode": {
    "name": "ipython",
    "version": 3
   },
   "file_extension": ".py",
   "mimetype": "text/x-python",
   "name": "python",
   "nbconvert_exporter": "python",
   "pygments_lexer": "ipython3",
   "version": "3.12.3"
  }
 },
 "nbformat": 4,
 "nbformat_minor": 2
}
