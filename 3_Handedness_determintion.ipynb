{
 "cells": [
  {
   "cell_type": "code",
   "execution_count": 1,
   "metadata": {},
   "outputs": [],
   "source": [
    "from pathlib import Path\n",
    "from DynamicalSimulation.handedness import simu\n",
    "from DynamicalSimulation.calc_flack_parameter import calc_R_and_Flack_against_Thickness"
   ]
  },
  {
   "cell_type": "code",
   "execution_count": 2,
   "metadata": {},
   "outputs": [],
   "source": [
    "crystal_path = r'DemoData\\Cinchonine'\n",
    "crystal_path = Path(crystal_path)"
   ]
  },
  {
   "cell_type": "code",
   "execution_count": 3,
   "metadata": {},
   "outputs": [
    {
     "name": "stderr",
     "output_type": "stream",
     "text": [
      "C:\\Users\\anline459\\AppData\\Local\\Temp\\ipykernel_32264\\25070836.py:1: DeprecationWarning: Conversion of an array with ndim > 0 to a scalar is deprecated, and will error in future. Ensure you extract a single element from your array before performing this operation. (Deprecated NumPy 1.25.)\n",
      "  simu(\n"
     ]
    },
    {
     "name": "stdout",
     "output_type": "stream",
     "text": [
      "folder: Cinchonine\n"
     ]
    },
    {
     "name": "stderr",
     "output_type": "stream",
     "text": [
      "Building matrix A: 100%|██████████| 5044/5044 [00:43<00:00, 114.97items/s]\n"
     ]
    },
    {
     "name": "stdout",
     "output_type": "stream",
     "text": [
      "Thickness: 100 Angstrom\n"
     ]
    },
    {
     "name": "stderr",
     "output_type": "stream",
     "text": [
      "Sloving matrix A: 100%|██████████| 5044/5044 [00:01<00:00, 3930.02item/s]\n"
     ]
    },
    {
     "name": "stdout",
     "output_type": "stream",
     "text": [
      "377629 excited reflections \n"
     ]
    },
    {
     "name": "stderr",
     "output_type": "stream",
     "text": [
      "integrating: 100%|██████████| 3421/3421 [00:00<00:00, 11583.02it/s]\n"
     ]
    },
    {
     "name": "stdout",
     "output_type": "stream",
     "text": [
      "3277 integrated reflections \n",
      "Thickness: 200 Angstrom\n"
     ]
    },
    {
     "name": "stderr",
     "output_type": "stream",
     "text": [
      "Sloving matrix A: 100%|██████████| 5044/5044 [00:01<00:00, 4410.56item/s]\n"
     ]
    },
    {
     "name": "stdout",
     "output_type": "stream",
     "text": [
      "377629 excited reflections \n"
     ]
    },
    {
     "name": "stderr",
     "output_type": "stream",
     "text": [
      "integrating: 100%|██████████| 3421/3421 [00:00<00:00, 21589.38it/s]\n"
     ]
    },
    {
     "name": "stdout",
     "output_type": "stream",
     "text": [
      "3277 integrated reflections \n",
      "Thickness: 300 Angstrom\n"
     ]
    },
    {
     "name": "stderr",
     "output_type": "stream",
     "text": [
      "Sloving matrix A: 100%|██████████| 5044/5044 [00:01<00:00, 4118.26item/s]\n"
     ]
    },
    {
     "name": "stdout",
     "output_type": "stream",
     "text": [
      "377629 excited reflections \n"
     ]
    },
    {
     "name": "stderr",
     "output_type": "stream",
     "text": [
      "integrating: 100%|██████████| 3421/3421 [00:00<00:00, 22472.68it/s]\n"
     ]
    },
    {
     "name": "stdout",
     "output_type": "stream",
     "text": [
      "3277 integrated reflections \n",
      "Thickness: 400 Angstrom\n"
     ]
    },
    {
     "name": "stderr",
     "output_type": "stream",
     "text": [
      "Sloving matrix A: 100%|██████████| 5044/5044 [00:01<00:00, 4489.69item/s]\n"
     ]
    },
    {
     "name": "stdout",
     "output_type": "stream",
     "text": [
      "377629 excited reflections \n"
     ]
    },
    {
     "name": "stderr",
     "output_type": "stream",
     "text": [
      "integrating: 100%|██████████| 3421/3421 [00:00<00:00, 22672.09it/s]\n"
     ]
    },
    {
     "name": "stdout",
     "output_type": "stream",
     "text": [
      "3277 integrated reflections \n",
      "Thickness: 500 Angstrom\n"
     ]
    },
    {
     "name": "stderr",
     "output_type": "stream",
     "text": [
      "Sloving matrix A: 100%|██████████| 5044/5044 [00:01<00:00, 4290.51item/s]\n"
     ]
    },
    {
     "name": "stdout",
     "output_type": "stream",
     "text": [
      "377629 excited reflections \n"
     ]
    },
    {
     "name": "stderr",
     "output_type": "stream",
     "text": [
      "integrating: 100%|██████████| 3421/3421 [00:00<00:00, 22517.71it/s]\n"
     ]
    },
    {
     "name": "stdout",
     "output_type": "stream",
     "text": [
      "3277 integrated reflections \n",
      "Thickness: 600 Angstrom\n"
     ]
    },
    {
     "name": "stderr",
     "output_type": "stream",
     "text": [
      "Sloving matrix A: 100%|██████████| 5044/5044 [00:01<00:00, 4307.23item/s]\n"
     ]
    },
    {
     "name": "stdout",
     "output_type": "stream",
     "text": [
      "377629 excited reflections \n"
     ]
    },
    {
     "name": "stderr",
     "output_type": "stream",
     "text": [
      "integrating: 100%|██████████| 3421/3421 [00:00<00:00, 20944.49it/s]\n"
     ]
    },
    {
     "name": "stdout",
     "output_type": "stream",
     "text": [
      "3277 integrated reflections \n",
      "Thickness: 700 Angstrom\n"
     ]
    },
    {
     "name": "stderr",
     "output_type": "stream",
     "text": [
      "Sloving matrix A: 100%|██████████| 5044/5044 [00:01<00:00, 4139.99item/s]\n"
     ]
    },
    {
     "name": "stdout",
     "output_type": "stream",
     "text": [
      "377629 excited reflections \n"
     ]
    },
    {
     "name": "stderr",
     "output_type": "stream",
     "text": [
      "integrating: 100%|██████████| 3421/3421 [00:00<00:00, 22351.83it/s]\n"
     ]
    },
    {
     "name": "stdout",
     "output_type": "stream",
     "text": [
      "3277 integrated reflections \n",
      "Thickness: 800 Angstrom\n"
     ]
    },
    {
     "name": "stderr",
     "output_type": "stream",
     "text": [
      "Sloving matrix A: 100%|██████████| 5044/5044 [00:01<00:00, 3975.31item/s]\n"
     ]
    },
    {
     "name": "stdout",
     "output_type": "stream",
     "text": [
      "377629 excited reflections \n"
     ]
    },
    {
     "name": "stderr",
     "output_type": "stream",
     "text": [
      "integrating: 100%|██████████| 3421/3421 [00:00<00:00, 21399.67it/s]\n"
     ]
    },
    {
     "name": "stdout",
     "output_type": "stream",
     "text": [
      "3277 integrated reflections \n",
      "Thickness: 900 Angstrom\n"
     ]
    },
    {
     "name": "stderr",
     "output_type": "stream",
     "text": [
      "Sloving matrix A: 100%|██████████| 5044/5044 [00:01<00:00, 4136.50item/s]\n"
     ]
    },
    {
     "name": "stdout",
     "output_type": "stream",
     "text": [
      "377629 excited reflections \n"
     ]
    },
    {
     "name": "stderr",
     "output_type": "stream",
     "text": [
      "integrating: 100%|██████████| 3421/3421 [00:00<00:00, 22256.80it/s]\n"
     ]
    },
    {
     "name": "stdout",
     "output_type": "stream",
     "text": [
      "3277 integrated reflections \n",
      "Thickness: 1000 Angstrom\n"
     ]
    },
    {
     "name": "stderr",
     "output_type": "stream",
     "text": [
      "Sloving matrix A: 100%|██████████| 5044/5044 [00:01<00:00, 4289.83item/s]\n"
     ]
    },
    {
     "name": "stdout",
     "output_type": "stream",
     "text": [
      "377629 excited reflections \n"
     ]
    },
    {
     "name": "stderr",
     "output_type": "stream",
     "text": [
      "integrating: 100%|██████████| 3421/3421 [00:00<00:00, 22816.55it/s]\n"
     ]
    },
    {
     "name": "stdout",
     "output_type": "stream",
     "text": [
      "3277 integrated reflections \n"
     ]
    },
    {
     "name": "stderr",
     "output_type": "stream",
     "text": [
      "C:\\Users\\anline459\\AppData\\Local\\Temp\\ipykernel_32264\\25070836.py:1: DeprecationWarning: Conversion of an array with ndim > 0 to a scalar is deprecated, and will error in future. Ensure you extract a single element from your array before performing this operation. (Deprecated NumPy 1.25.)\n",
      "  simu(\n",
      "Building matrix A: 100%|██████████| 5044/5044 [00:41<00:00, 122.13items/s]\n"
     ]
    },
    {
     "name": "stdout",
     "output_type": "stream",
     "text": [
      "Thickness: 100 Angstrom\n"
     ]
    },
    {
     "name": "stderr",
     "output_type": "stream",
     "text": [
      "Sloving matrix A: 100%|██████████| 5044/5044 [00:01<00:00, 4098.02item/s]\n"
     ]
    },
    {
     "name": "stdout",
     "output_type": "stream",
     "text": [
      "377629 excited reflections \n"
     ]
    },
    {
     "name": "stderr",
     "output_type": "stream",
     "text": [
      "integrating: 100%|██████████| 3421/3421 [00:00<00:00, 21767.16it/s]\n"
     ]
    },
    {
     "name": "stdout",
     "output_type": "stream",
     "text": [
      "3277 integrated reflections \n",
      "Thickness: 200 Angstrom\n"
     ]
    },
    {
     "name": "stderr",
     "output_type": "stream",
     "text": [
      "Sloving matrix A: 100%|██████████| 5044/5044 [00:01<00:00, 4240.61item/s]\n"
     ]
    },
    {
     "name": "stdout",
     "output_type": "stream",
     "text": [
      "377629 excited reflections \n"
     ]
    },
    {
     "name": "stderr",
     "output_type": "stream",
     "text": [
      "integrating: 100%|██████████| 3421/3421 [00:00<00:00, 22724.62it/s]\n"
     ]
    },
    {
     "name": "stdout",
     "output_type": "stream",
     "text": [
      "3277 integrated reflections \n",
      "Thickness: 300 Angstrom\n"
     ]
    },
    {
     "name": "stderr",
     "output_type": "stream",
     "text": [
      "Sloving matrix A: 100%|██████████| 5044/5044 [00:01<00:00, 4291.85item/s]\n"
     ]
    },
    {
     "name": "stdout",
     "output_type": "stream",
     "text": [
      "377629 excited reflections \n"
     ]
    },
    {
     "name": "stderr",
     "output_type": "stream",
     "text": [
      "integrating: 100%|██████████| 3421/3421 [00:00<00:00, 20861.87it/s]\n"
     ]
    },
    {
     "name": "stdout",
     "output_type": "stream",
     "text": [
      "3277 integrated reflections \n",
      "Thickness: 400 Angstrom\n"
     ]
    },
    {
     "name": "stderr",
     "output_type": "stream",
     "text": [
      "Sloving matrix A: 100%|██████████| 5044/5044 [00:01<00:00, 3791.36item/s]\n"
     ]
    },
    {
     "name": "stdout",
     "output_type": "stream",
     "text": [
      "377629 excited reflections \n"
     ]
    },
    {
     "name": "stderr",
     "output_type": "stream",
     "text": [
      "integrating: 100%|██████████| 3421/3421 [00:00<00:00, 20792.65it/s]\n"
     ]
    },
    {
     "name": "stdout",
     "output_type": "stream",
     "text": [
      "3277 integrated reflections \n",
      "Thickness: 500 Angstrom\n"
     ]
    },
    {
     "name": "stderr",
     "output_type": "stream",
     "text": [
      "Sloving matrix A: 100%|██████████| 5044/5044 [00:01<00:00, 4189.14item/s]\n"
     ]
    },
    {
     "name": "stdout",
     "output_type": "stream",
     "text": [
      "377629 excited reflections \n"
     ]
    },
    {
     "name": "stderr",
     "output_type": "stream",
     "text": [
      "integrating: 100%|██████████| 3421/3421 [00:00<00:00, 23004.95it/s]\n"
     ]
    },
    {
     "name": "stdout",
     "output_type": "stream",
     "text": [
      "3277 integrated reflections \n",
      "Thickness: 600 Angstrom\n"
     ]
    },
    {
     "name": "stderr",
     "output_type": "stream",
     "text": [
      "Sloving matrix A: 100%|██████████| 5044/5044 [00:01<00:00, 3970.14item/s]\n"
     ]
    },
    {
     "name": "stdout",
     "output_type": "stream",
     "text": [
      "377629 excited reflections \n"
     ]
    },
    {
     "name": "stderr",
     "output_type": "stream",
     "text": [
      "integrating: 100%|██████████| 3421/3421 [00:00<00:00, 22193.94it/s]\n"
     ]
    },
    {
     "name": "stdout",
     "output_type": "stream",
     "text": [
      "3277 integrated reflections \n",
      "Thickness: 700 Angstrom\n"
     ]
    },
    {
     "name": "stderr",
     "output_type": "stream",
     "text": [
      "Sloving matrix A: 100%|██████████| 5044/5044 [00:01<00:00, 4344.58item/s]\n"
     ]
    },
    {
     "name": "stdout",
     "output_type": "stream",
     "text": [
      "377629 excited reflections \n"
     ]
    },
    {
     "name": "stderr",
     "output_type": "stream",
     "text": [
      "integrating: 100%|██████████| 3421/3421 [00:00<00:00, 14609.14it/s]\n"
     ]
    },
    {
     "name": "stdout",
     "output_type": "stream",
     "text": [
      "3277 integrated reflections \n",
      "Thickness: 800 Angstrom\n"
     ]
    },
    {
     "name": "stderr",
     "output_type": "stream",
     "text": [
      "Sloving matrix A: 100%|██████████| 5044/5044 [00:01<00:00, 4264.79item/s]\n"
     ]
    },
    {
     "name": "stdout",
     "output_type": "stream",
     "text": [
      "377629 excited reflections \n"
     ]
    },
    {
     "name": "stderr",
     "output_type": "stream",
     "text": [
      "integrating: 100%|██████████| 3421/3421 [00:00<00:00, 22200.33it/s]\n"
     ]
    },
    {
     "name": "stdout",
     "output_type": "stream",
     "text": [
      "3277 integrated reflections \n",
      "Thickness: 900 Angstrom\n"
     ]
    },
    {
     "name": "stderr",
     "output_type": "stream",
     "text": [
      "Sloving matrix A: 100%|██████████| 5044/5044 [00:01<00:00, 4352.67item/s]\n"
     ]
    },
    {
     "name": "stdout",
     "output_type": "stream",
     "text": [
      "377629 excited reflections \n"
     ]
    },
    {
     "name": "stderr",
     "output_type": "stream",
     "text": [
      "integrating: 100%|██████████| 3421/3421 [00:00<00:00, 22384.40it/s]\n"
     ]
    },
    {
     "name": "stdout",
     "output_type": "stream",
     "text": [
      "3277 integrated reflections \n",
      "Thickness: 1000 Angstrom\n"
     ]
    },
    {
     "name": "stderr",
     "output_type": "stream",
     "text": [
      "Sloving matrix A: 100%|██████████| 5044/5044 [00:01<00:00, 4181.08item/s]\n"
     ]
    },
    {
     "name": "stdout",
     "output_type": "stream",
     "text": [
      "377629 excited reflections \n"
     ]
    },
    {
     "name": "stderr",
     "output_type": "stream",
     "text": [
      "integrating: 100%|██████████| 3421/3421 [00:00<00:00, 21799.60it/s]\n"
     ]
    },
    {
     "name": "stdout",
     "output_type": "stream",
     "text": [
      "3277 integrated reflections \n"
     ]
    }
   ],
   "source": [
    "simu(\n",
    "    crystal_path=crystal_path,\n",
    "    g_max=1/1+0.2, \n",
    "    Sg_max=0.01, \n",
    "    angle_osc=0.02, \n",
    "    thickness_range=range(100, 1002, 100), \n",
    "    voltage_V=200*1000, \n",
    ")"
   ]
  },
  {
   "cell_type": "code",
   "execution_count": 4,
   "metadata": {},
   "outputs": [
    {
     "name": "stdout",
     "output_type": "stream",
     "text": [
      "Cinchonine\n",
      "gt/all: 1290/1874\n",
      "find 1271 commom hkl\n",
      "t= 100 A\n",
      "R1=  0.1936, R_1_inv=  0.2008\n",
      "flack: 0.4180, uncertainty: 0.002478, R1: 0.1879\n",
      "\n",
      "find 1271 commom hkl\n",
      "t= 200 A\n",
      "R1=  0.1863, R_1_inv=  0.2008\n",
      "flack: 0.3917, uncertainty: 0.001001, R1: 0.1787\n",
      "\n",
      "find 1271 commom hkl\n",
      "t= 300 A\n",
      "R1=  0.1797, R_1_inv=  0.1974\n",
      "flack: 0.3430, uncertainty: 0.001389, R1: 0.1717\n",
      "\n",
      "find 1271 commom hkl\n",
      "t= 400 A\n",
      "R1=  0.1748, R_1_inv=  0.1950\n",
      "flack: 0.3332, uncertainty: 0.001219, R1: 0.1661\n",
      "\n",
      "find 1271 commom hkl\n",
      "t= 500 A\n",
      "R1=  0.1696, R_1_inv=  0.1925\n",
      "flack: 0.3180, uncertainty: 0.003367, R1: 0.1601\n",
      "\n",
      "find 1271 commom hkl\n",
      "t= 600 A\n",
      "R1=  0.1639, R_1_inv=  0.1879\n",
      "flack: 0.3030, uncertainty: 0.000522, R1: 0.1542\n",
      "\n",
      "find 1271 commom hkl\n",
      "t= 700 A\n",
      "R1=  0.1592, R_1_inv=  0.1838\n",
      "flack: 0.3015, uncertainty: 0.002296, R1: 0.1497\n",
      "\n",
      "find 1271 commom hkl\n",
      "t= 800 A\n",
      "R1=  0.1550, R_1_inv=  0.1807\n",
      "flack: 0.3016, uncertainty: 0.000771, R1: 0.1473\n",
      "\n",
      "find 1271 commom hkl\n",
      "t= 900 A\n",
      "R1=  0.1525, R_1_inv=  0.1781\n",
      "flack: 0.2799, uncertainty: 0.000111, R1: 0.1464\n",
      "\n",
      "find 1271 commom hkl\n",
      "t=1000 A\n",
      "R1=  0.1518, R_1_inv=  0.1764\n",
      "flack: 0.2392, uncertainty: 0.000795, R1: 0.1477\n",
      "\n"
     ]
    },
    {
     "data": {
      "image/png": "[encoded data removed]",
      "text/plain": [
       "<Figure size 800x600 with 1 Axes>"
      ]
     },
     "metadata": {},
     "output_type": "display_data"
    }
   ],
   "source": [
    "calc_R_and_Flack_against_Thickness(crystal_path, I_s_min=2, n_iterations=10, plot=True)\n"
   ]
  },
  {
   "cell_type": "code",
   "execution_count": null,
   "metadata": {},
   "outputs": [],
   "source": []
  }
 ],
 "metadata": {
  "kernelspec": {
   "display_name": "base",
   "language": "python",
   "name": "python3"
  },
  "language_info": {
   "codemirror_mode": {
    "name": "ipython",
    "version": 3
   },
   "file_extension": ".py",
   "mimetype": "text/x-python",
   "name": "python",
   "nbconvert_exporter": "python",
   "pygments_lexer": "ipython3",
   "version": "3.12.3"
  }
 },
 "nbformat": 4,
 "nbformat_minor": 2
}
